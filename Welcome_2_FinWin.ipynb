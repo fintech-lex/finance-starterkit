{
  "nbformat": 4,
  "nbformat_minor": 0,
  "metadata": {
    "colab": {
      "provenance": [],
      "toc_visible": true,
      "mount_file_id": "1fpdUvWNVpZ7qT8RJGwb580vzZIudv8GF",
      "authorship_tag": "ABX9TyMDHshL6slbyXREeIFH48YJ",
      "include_colab_link": true
    },
    "kernelspec": {
      "name": "python3",
      "display_name": "Python 3"
    },
    "language_info": {
      "name": "python"
    }
  },
  "cells": [
    {
      "cell_type": "markdown",
      "metadata": {
        "id": "view-in-github",
        "colab_type": "text"
      },
      "source": [
        "<a href=\"https://colab.research.google.com/github/fintech-lex/finance-starterkit/blob/main/Welcome_2_FinWin.ipynb\" target=\"_parent\"><img src=\"https://colab.research.google.com/assets/colab-badge.svg\" alt=\"Open In Colab\"/></a>"
      ]
    },
    {
      "cell_type": "code",
      "execution_count": null,
      "metadata": {
        "id": "0xlkWWN9JEax"
      },
      "outputs": [],
      "source": [
        "# Welcome to Finance Starter Kit! Brought to you by the Logistic Regressions!\n",
        "\n",
        "print(f'Enjoy reviewing our Secret Project Code Name: \"FinWin\"')"
      ]
    },
    {
      "cell_type": "markdown",
      "source": [
        "# Introduction: Setting the Story\n",
        "\n",
        "### This project is aimed to create a user-friendly Financial Solution Robo planner for the marginalized communities.\n",
        "\n",
        "### By levering newer FinTech dynamic libraries, we can deploy Machine Learning to train Robo advisors how interact with new users, providing financial planning with ease of verbiage and usage.\n"
      ],
      "metadata": {
        "id": "lVMpgNiYJIL3"
      }
    },
    {
      "cell_type": "code",
      "source": [
        "print(f'Lets gather some data now... shall we?') # Let's make it fun for the front-end user experience with messages like this!"
      ],
      "metadata": {
        "colab": {
          "base_uri": "https://localhost:8080/"
        },
        "id": "8WzA_V5LJrGR",
        "outputId": "a033a4b2-724e-4bd4-a102-eb3416e9e612"
      },
      "execution_count": 1,
      "outputs": [
        {
          "output_type": "stream",
          "name": "stdout",
          "text": [
            "Lets gather some data now... shall we?\n"
          ]
        }
      ]
    },
    {
      "cell_type": "code",
      "source": [
        "# Fundational to Imports & Engines\n",
        "\n",
        "import pandas as pd\n",
        "from pathlib import Path\n",
        "import os\n",
        "import requests\n",
        "import numpy as np\n",
        "import matplotlib.pyplot as plt\n",
        "import datetime\n",
        "import warnings\n",
        "import json\n",
        "warnings.filterwarnings('ignore')\n",
        "\n",
        "%matplotlib inline"
      ],
      "metadata": {
        "id": "t7PzbYMXJthC"
      },
      "execution_count": 2,
      "outputs": []
    },
    {
      "cell_type": "markdown",
      "source": [
        "As a group with similar backgrounds and experience, we understand how even something so simple as a line of code, can still be difficult to comprehend or attain proficiency.\n",
        "\n",
        "\n",
        "But similar to Economics and Wealth disparity existant on global and microscopic scales, technology can play a role too in helping mitigate that threat in Modern Western Capitalism.\n",
        "\n",
        "\n",
        "If we're going to do something big and grand, we need to first start with the ***basics***:"
      ],
      "metadata": {
        "id": "A0SiFUEnJ0pJ"
      }
    },
    {
      "cell_type": "code",
      "source": [
        "# Foundational Parameters\n",
        "\n",
        "def classify_age(age):\n",
        "    if 18 <= age <= 30:\n",
        "        return \"Young\"\n",
        "    elif 31 <= age <= 50:\n",
        "        return \"Middle\"\n",
        "    elif 51 <= age <= 100:\n",
        "        return \"Old\"\n",
        "    else:\n",
        "        return \"Invalid\"\n",
        "\n",
        "# Dictionary to store newly created age classifications\n",
        "age_class = {}\n",
        "\n",
        "# Classify ages from 18 to 100 and store the results in the dictionary\n",
        "for age in range(18, 101):\n",
        "    classification = classify_age(age)\n",
        "    age_class[age] = classification"
      ],
      "metadata": {
        "id": "kWX9Dg2JJw1B"
      },
      "execution_count": 3,
      "outputs": []
    },
    {
      "cell_type": "markdown",
      "source": [
        "Often times, the biggest worry is not necessarily getting the income, or getting to the bank... sometimes its something as simple as 'fear'. Or rather, knowing you need help, but don't know what are the real questions to ask, where should you start, or what should you even bring?\n",
        "\n",
        "In the modern banking and compliance world, we call that Know Your Customer.\n",
        "\n",
        "Important as it is to prove your Date of Birth, it should be easy as well to provide it.\n",
        "\n",
        "We reiterate our commitment to make this is a **SMOOTH**... *EASY*... process..."
      ],
      "metadata": {
        "id": "hdoiedcQK52V"
      }
    },
    {
      "cell_type": "code",
      "source": [
        "core_solution = ['Bank', 'Invest', 'Home', 'Retire', 'Speculate'] # This will later be implemented and layered with Amazon Lambda functionality, to collect required KYC information\n",
        "\n",
        "initial_capital = list(range(0,10000001))"
      ],
      "metadata": {
        "id": "wDxs2zR0Jzlz"
      },
      "execution_count": null,
      "outputs": []
    },
    {
      "cell_type": "code",
      "source": [
        "# Lets marry all these foundational parameters and\n",
        "data = {\n",
        "    'Age_Group': classification,\n",
        "    'Solution': core_solution,\n",
        "    'Fav_Platform': ['Facebook', 'Instagram', 'Twitter', 'Reddit', 'Snapchat']\n",
        "}\n",
        "\n",
        "# Create a DataFrame from the sample dataset\n",
        "df = pd.DataFrame(data)\n",
        "\n",
        "# Let's see what we got here!\n",
        "\n",
        "df"
      ],
      "metadata": {
        "colab": {
          "base_uri": "https://localhost:8080/",
          "height": 304
        },
        "id": "AapiJug8Lj9C",
        "outputId": "d91d8b8c-60ef-4da9-e1c2-13360af610e2"
      },
      "execution_count": 4,
      "outputs": [
        {
          "output_type": "error",
          "ename": "NameError",
          "evalue": "ignored",
          "traceback": [
            "\u001b[0;31m---------------------------------------------------------------------------\u001b[0m",
            "\u001b[0;31mNameError\u001b[0m                                 Traceback (most recent call last)",
            "\u001b[0;32m<ipython-input-4-1365f2d97180>\u001b[0m in \u001b[0;36m<cell line: 3>\u001b[0;34m()\u001b[0m\n\u001b[1;32m      2\u001b[0m data = {\n\u001b[1;32m      3\u001b[0m     \u001b[0;34m'Age_Group'\u001b[0m\u001b[0;34m:\u001b[0m \u001b[0mclassification\u001b[0m\u001b[0;34m,\u001b[0m\u001b[0;34m\u001b[0m\u001b[0;34m\u001b[0m\u001b[0m\n\u001b[0;32m----> 4\u001b[0;31m     \u001b[0;34m'Solution'\u001b[0m\u001b[0;34m:\u001b[0m \u001b[0mcore_solution\u001b[0m\u001b[0;34m,\u001b[0m\u001b[0;34m\u001b[0m\u001b[0;34m\u001b[0m\u001b[0m\n\u001b[0m\u001b[1;32m      5\u001b[0m     \u001b[0;34m'Fav_Platform'\u001b[0m\u001b[0;34m:\u001b[0m \u001b[0;34m[\u001b[0m\u001b[0;34m'Facebook'\u001b[0m\u001b[0;34m,\u001b[0m \u001b[0;34m'Instagram'\u001b[0m\u001b[0;34m,\u001b[0m \u001b[0;34m'Twitter'\u001b[0m\u001b[0;34m,\u001b[0m \u001b[0;34m'Reddit'\u001b[0m\u001b[0;34m,\u001b[0m \u001b[0;34m'Snapchat'\u001b[0m\u001b[0;34m]\u001b[0m\u001b[0;34m\u001b[0m\u001b[0;34m\u001b[0m\u001b[0m\n\u001b[1;32m      6\u001b[0m }\n",
            "\u001b[0;31mNameError\u001b[0m: name 'core_solution' is not defined"
          ]
        }
      ]
    },
    {
      "cell_type": "code",
      "source": [],
      "metadata": {
        "id": "UFmySkELLkXl"
      },
      "execution_count": null,
      "outputs": []
    },
    {
      "cell_type": "markdown",
      "source": [
        "Enough kindergarden stuff (still important!), let's get in some real life data, information and historical numbers to analyze and develop the best path forward!"
      ],
      "metadata": {
        "id": "mg0_TyPTLpeM"
      }
    },
    {
      "cell_type": "code",
      "source": [
        "# Setting the stage for next phase of Historical CSV Ingestion & Data Manipulation\n",
        "\n",
        "yield_file = Path('./Resources/yield-rates-1990-2021.csv')\n",
        "\n",
        "yield_csv = pd.read_csv(yield_file, index_col=[0], parse_dates=True, infer_datetime_format=True)\n",
        "\n",
        "yield_csv"
      ],
      "metadata": {
        "id": "w3xp6uz4L2Fc"
      },
      "execution_count": null,
      "outputs": []
    },
    {
      "cell_type": "markdown",
      "source": [
        "Prophet (RIP Facebook or 'FB') is a great and simple tool to set up our modelizations needed to provide our users the ability to see the fruits of their work. Any time or money invested with us, has to be transparent in reason for ask, alongside visualizations and education provided simultaneously while interacting with our Robo Advisor.\n",
        "\n",
        "For now, let's make sure our machine is nice and oiled up:"
      ],
      "metadata": {
        "id": "7LLkKwj5L8lD"
      }
    },
    {
      "cell_type": "code",
      "source": [
        "# Future Predictability Model\n",
        "\n",
        "from prophet import Prophet # RIP Facebook!\n",
        "\n",
        "# Prepare model and clean up data\n",
        "\n",
        "new_df = yield_csv['3 Mo']\n",
        "\n",
        "new_df = new_df.reset_index()\n",
        "\n",
        "new_df = new_df.rename(columns={'Date': 'ds', '3 Mo': 'y'})\n",
        "\n",
        "display(new_df)\n",
        "\n",
        "# Model Creation\n",
        "\n",
        "m = Prophet()\n",
        "m.fit(new_df) # The New Df needs to be here. Working to convert Dates and Yields into ds and y\n",
        "\n",
        "# Future 'indicators' Creation\n",
        "\n",
        "future = m.make_future_dataframe(periods=4)\n",
        "future.tail()\n",
        "\n",
        "# Forecast model integrating newly\n",
        "\n",
        "forecast = m.predict(future)\n",
        "forecast[['ds', 'yhat', 'yhat_lower', 'yhat_upper']].tail()\n",
        "\n",
        "# Lets make this thing pretty! Visualization & Plots!\n",
        "\n",
        "from prophet.plot import plot_plotly, plot_components_plotly\n",
        "\n",
        "plot_components_plotly(m, forecast)"
      ],
      "metadata": {
        "id": "_w4BJsoOMd6H"
      },
      "execution_count": null,
      "outputs": []
    },
    {
      "cell_type": "markdown",
      "source": [
        "Now that we have that sorted, let's ingest actual information to support our analysis on the glaring issue yet tulmutous opportunity to address and narrow the everpresent Racial Wealth Gap.\n",
        "\n",
        "Our work, approach and analysis remains always fair, unbiased and unprejudiced.\n",
        "\n",
        "Albeit fortunate, we have an abundance of historical data that supports that rhetoric while we attempt to find a correlation between actual Market Conditions & Performance, unilaterally with the Racial Wealth Gap."
      ],
      "metadata": {
        "id": "adxosMdAMmfZ"
      }
    },
    {
      "cell_type": "code",
      "source": [
        "# Let's focus on the parameters and dataset needed to support our analysis into the Racial Wealth Gap\n",
        "\n",
        "inequality_file = Path('./Resources/Income_Inequality.csv')\n",
        "\n",
        "inequality_csv = pd.read_csv(inequality_file)\n",
        "\n",
        "display(inequality_csv.head())"
      ],
      "metadata": {
        "id": "yKDH91lGNQ2g"
      },
      "execution_count": null,
      "outputs": []
    },
    {
      "cell_type": "markdown",
      "source": [
        "Let's tag in a friend shall we!"
      ],
      "metadata": {
        "id": "fQXN7Yp0NU5l"
      }
    },
    {
      "cell_type": "code",
      "source": [
        "## Mission: Jordi\n",
        "\n",
        "import requests\n",
        "import pandas as pd\n",
        "import json\n",
        "import matplotlib.pyplot as plt\n",
        "\n",
        "wkly_close_etf3=pd.read_csv('Resources/WKLY_ETF_close_prices.csv',index_col = \"date\", infer_datetime_format = True, parse_dates = True).sort_index(ascending=True)\n",
        "wkly_close_etf3\n",
        "\n",
        "#find null valuse\n",
        "wkly_close_etf3.isnull().sum()\n",
        "\n",
        "#find volatility\n",
        "wkly_pct_change=wkly_close_etf3.pct_change()\n",
        "wkly_pct_change\n",
        "\n",
        "#drop null valuse\n",
        "wkly_pct_change=wkly_pct_change.dropna()\n",
        "wkly_pct_change\n",
        "\n",
        "cumulative_returns=(1+wkly_pct_change).cumprod()\n",
        "cumulative_returns.plot(figsize=(15,5))\n",
        "\n",
        "risk_plot=cumulative_returns\n",
        "risk_plot.boxplot(figsize=(20,5))\n",
        "\n",
        "wkly_std=cumulative_returns.std()\n",
        "wkly_std\n",
        "\n",
        "# Set weights for even portfolio distrubition\n",
        "weights = [.2,.2,.2,.2,.2]\n",
        "portfolio_returns = wkly_pct_change.dot(weights)\n",
        "portfolio_returns.head()\n",
        "\n",
        "cumulative_returns2 = (1 + portfolio_returns).cumprod()\n",
        "cumulative_returns2.head()\n",
        "\n",
        "# Plot the returns of the portfolio with initial investment of $10\n",
        "initial_investment = 10\n",
        "cumulative_profit = initial_investment * cumulative_returns2\n",
        "cumulative_profit.plot(figsize=(15,5))\n",
        "\n",
        "# Change weights for more risker profile of stocks, weighted heavly towards BITO\n",
        "weights2 = [.1,.1,.1,0,.7]\n",
        "portfolio_returns2 = wkly_pct_change.dot(weights)\n",
        "\n",
        "cumulative_returns3 = (1 + portfolio_returns2).cumprod()\n",
        "\n",
        "initial_investment = 1000\n",
        "cumulative_profit2 = initial_investment * cumulative_returns3\n",
        "cumulative_profit2.plot()\n",
        "\n",
        "\n",
        "# Change weights for less risker profile of stocks, weighted heavly towards SPY and DIA\n",
        "weights3 = [.4,0,.4,.2,0]\n",
        "portfolio_returns3 = wkly_pct_change.dot(weights)\n",
        "\n",
        "cumulative_returns4 = (1 + portfolio_returns3).cumprod()\n",
        "\n",
        "initial_investment = 1000\n",
        "cumulative_profit3 = initial_investment * cumulative_returns3\n",
        "cumulative_profit3.plot()"
      ],
      "metadata": {
        "id": "AzS5q3fQNUXx"
      },
      "execution_count": null,
      "outputs": []
    }
  ]
}
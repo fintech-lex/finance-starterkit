{
 "cells": [
  {
   "cell_type": "markdown",
   "metadata": {
    "colab_type": "text",
    "id": "view-in-github"
   },
   "source": [
    "<a href=\"https://colab.research.google.com/github/fintech-lex/finance-starterkit/blob/main/Welcome_2_FinWin_Final.ipynb\" target=\"_parent\"><img src=\"https://colab.research.google.com/assets/colab-badge.svg\" alt=\"Open In Colab\"/></a>"
   ]
  },
  {
   "cell_type": "markdown",
   "metadata": {
    "id": "lVMpgNiYJIL3"
   },
   "source": [
    "# Introduction: Setting the Story\n",
    "\n",
    "### This project is aimed to create a user-friendly Financial Solution Robo planner for the marginalized communities.\n",
    "\n",
    "### By levering newer FinTech dynamic libraries, we can deploy Machine Learning to train Robo advisors how interact with new users, providing financial planning with ease of verbiage and usage.\n"
   ]
  },
  {
   "cell_type": "code",
   "execution_count": 1,
   "metadata": {
    "colab": {
     "base_uri": "https://localhost:8080/"
    },
    "id": "0xlkWWN9JEax",
    "outputId": "66c6c46b-f390-4454-8818-9a41d1d8366b"
   },
   "outputs": [
    {
     "name": "stdout",
     "output_type": "stream",
     "text": [
      "Enjoy reviewing our Secret Project Code Name: \"FinWin\"\n",
      "Lets gather some data now... shall we?\n"
     ]
    }
   ],
   "source": [
    "# Welcome to Finance Starter Kit! Brought to you by the Logistic Regressions!\n",
    "\n",
    "print(f'Enjoy reviewing our Secret Project Code Name: \"FinWin\"')\n",
    "\n",
    "print(f'Lets gather some data now... shall we?') # Let's make it fun for the front-end user experience with messages like this!"
   ]
  },
  {
   "cell_type": "code",
   "execution_count": 2,
   "metadata": {
    "id": "t7PzbYMXJthC"
   },
   "outputs": [],
   "source": [
    "# Fundational to Imports & Engines\n",
    "\n",
    "import pandas as pd\n",
    "from pathlib import Path\n",
    "import os\n",
    "import requests\n",
    "import numpy as np\n",
    "import matplotlib.pyplot as plt\n",
    "import datetime\n",
    "import warnings\n",
    "import json\n",
    "warnings.filterwarnings('ignore')\n",
    "\n",
    "%matplotlib inline"
   ]
  },
  {
   "cell_type": "markdown",
   "metadata": {
    "id": "A0SiFUEnJ0pJ"
   },
   "source": [
    "As a group with similar backgrounds and experience, we understand how even something so simple as a line of code, can still be difficult to comprehend or attain proficiency.\n",
    "\n",
    "\n",
    "But similar to Economics and Wealth disparity existant on global and microscopic scales, technology can play a role too in helping mitigate that threat in Modern Western Capitalism.\n",
    "\n",
    "\n",
    "If we're going to do something big and grand, we need to first start with the ***basics***:"
   ]
  },
  {
   "cell_type": "code",
   "execution_count": 3,
   "metadata": {
    "id": "kWX9Dg2JJw1B"
   },
   "outputs": [],
   "source": [
    "# Foundational Parameters\n",
    "\n",
    "def classify_age(age):\n",
    "    if 18 <= age <= 30:\n",
    "        return \"Young\"\n",
    "    elif 31 <= age <= 50:\n",
    "        return \"Middle\"\n",
    "    elif 51 <= age <= 100:\n",
    "        return \"Old\"\n",
    "    else:\n",
    "        return \"Invalid\"\n",
    "\n",
    "# Dictionary to store newly created age classifications\n",
    "age_class = {}\n",
    "\n",
    "# Classify ages from 18 to 100 and store the results in the dictionary\n",
    "for age in range(18, 101):\n",
    "    classification = classify_age(age)\n",
    "    age_class[age] = classification"
   ]
  },
  {
   "cell_type": "markdown",
   "metadata": {
    "id": "hdoiedcQK52V"
   },
   "source": [
    "Often times, the biggest worry is not necessarily getting the income, or getting to the bank... sometimes its something as simple as 'fear'. Or rather, knowing you need help, but don't know what are the real questions to ask, where should you start, or what should you even bring?\n",
    "\n",
    "In the modern banking and compliance world, we call that Know Your Customer.\n",
    "\n",
    "Important as it is to prove your Date of Birth, it should be easy as well to provide it.\n",
    "\n",
    "We reiterate our commitment to make this is a **SMOOTH**... *EASY*... process..."
   ]
  },
  {
   "cell_type": "code",
   "execution_count": 4,
   "metadata": {
    "id": "wDxs2zR0Jzlz"
   },
   "outputs": [],
   "source": [
    "core_solution = ['Bank', 'Invest', 'Home', 'Retire', 'Speculate'] # This will later be implemented and layered with Amazon Lambda functionality, to collect required KYC information\n",
    "\n",
    "initial_capital = list(range(0,10000001))"
   ]
  },
  {
   "cell_type": "code",
   "execution_count": 5,
   "metadata": {
    "colab": {
     "base_uri": "https://localhost:8080/",
     "height": 206
    },
    "id": "AapiJug8Lj9C",
    "outputId": "07a26a72-e5f0-4c34-b271-827d0f8bca55"
   },
   "outputs": [
    {
     "data": {
      "text/html": [
       "<div>\n",
       "<style scoped>\n",
       "    .dataframe tbody tr th:only-of-type {\n",
       "        vertical-align: middle;\n",
       "    }\n",
       "\n",
       "    .dataframe tbody tr th {\n",
       "        vertical-align: top;\n",
       "    }\n",
       "\n",
       "    .dataframe thead th {\n",
       "        text-align: right;\n",
       "    }\n",
       "</style>\n",
       "<table border=\"1\" class=\"dataframe\">\n",
       "  <thead>\n",
       "    <tr style=\"text-align: right;\">\n",
       "      <th></th>\n",
       "      <th>Age_Group</th>\n",
       "      <th>Solution</th>\n",
       "      <th>Fav_Platform</th>\n",
       "    </tr>\n",
       "  </thead>\n",
       "  <tbody>\n",
       "    <tr>\n",
       "      <th>0</th>\n",
       "      <td>Old</td>\n",
       "      <td>Bank</td>\n",
       "      <td>Facebook</td>\n",
       "    </tr>\n",
       "    <tr>\n",
       "      <th>1</th>\n",
       "      <td>Old</td>\n",
       "      <td>Invest</td>\n",
       "      <td>Instagram</td>\n",
       "    </tr>\n",
       "    <tr>\n",
       "      <th>2</th>\n",
       "      <td>Old</td>\n",
       "      <td>Home</td>\n",
       "      <td>Twitter</td>\n",
       "    </tr>\n",
       "    <tr>\n",
       "      <th>3</th>\n",
       "      <td>Old</td>\n",
       "      <td>Retire</td>\n",
       "      <td>Reddit</td>\n",
       "    </tr>\n",
       "    <tr>\n",
       "      <th>4</th>\n",
       "      <td>Old</td>\n",
       "      <td>Speculate</td>\n",
       "      <td>Snapchat</td>\n",
       "    </tr>\n",
       "  </tbody>\n",
       "</table>\n",
       "</div>"
      ],
      "text/plain": [
       "  Age_Group   Solution Fav_Platform\n",
       "0       Old       Bank     Facebook\n",
       "1       Old     Invest    Instagram\n",
       "2       Old       Home      Twitter\n",
       "3       Old     Retire       Reddit\n",
       "4       Old  Speculate     Snapchat"
      ]
     },
     "execution_count": 5,
     "metadata": {},
     "output_type": "execute_result"
    }
   ],
   "source": [
    "# Lets marry all these foundational parameters and\n",
    "data = {\n",
    "    'Age_Group': classification,\n",
    "    'Solution': core_solution,\n",
    "    'Fav_Platform': ['Facebook', 'Instagram', 'Twitter', 'Reddit', 'Snapchat']\n",
    "}\n",
    "\n",
    "# Create a DataFrame from the sample dataset\n",
    "df = pd.DataFrame(data)\n",
    "\n",
    "# Let's see what we got here!\n",
    "\n",
    "df"
   ]
  },
  {
   "cell_type": "markdown",
   "metadata": {
    "id": "mg0_TyPTLpeM"
   },
   "source": [
    "Enough kindergarden stuff (still important!), let's get in some real life data, information and historical numbers to analyze and develop the best path forward!"
   ]
  },
  {
   "cell_type": "code",
   "execution_count": 6,
   "metadata": {
    "colab": {
     "base_uri": "https://localhost:8080/",
     "height": 341
    },
    "id": "w3xp6uz4L2Fc",
    "outputId": "becda4d4-80c3-4732-b249-c82bae41ddc1"
   },
   "outputs": [
    {
     "data": {
      "text/html": [
       "<div>\n",
       "<style scoped>\n",
       "    .dataframe tbody tr th:only-of-type {\n",
       "        vertical-align: middle;\n",
       "    }\n",
       "\n",
       "    .dataframe tbody tr th {\n",
       "        vertical-align: top;\n",
       "    }\n",
       "\n",
       "    .dataframe thead th {\n",
       "        text-align: right;\n",
       "    }\n",
       "</style>\n",
       "<table border=\"1\" class=\"dataframe\">\n",
       "  <thead>\n",
       "    <tr style=\"text-align: right;\">\n",
       "      <th></th>\n",
       "      <th>1 Mo</th>\n",
       "      <th>2 Mo</th>\n",
       "      <th>3 Mo</th>\n",
       "      <th>4 Mo</th>\n",
       "      <th>6 Mo</th>\n",
       "      <th>1 Yr</th>\n",
       "      <th>2 Yr</th>\n",
       "      <th>3 Yr</th>\n",
       "      <th>5 Yr</th>\n",
       "      <th>7 Yr</th>\n",
       "      <th>10 Yr</th>\n",
       "      <th>20 Yr</th>\n",
       "      <th>30 Yr</th>\n",
       "    </tr>\n",
       "    <tr>\n",
       "      <th>Date</th>\n",
       "      <th></th>\n",
       "      <th></th>\n",
       "      <th></th>\n",
       "      <th></th>\n",
       "      <th></th>\n",
       "      <th></th>\n",
       "      <th></th>\n",
       "      <th></th>\n",
       "      <th></th>\n",
       "      <th></th>\n",
       "      <th></th>\n",
       "      <th></th>\n",
       "      <th></th>\n",
       "    </tr>\n",
       "  </thead>\n",
       "  <tbody>\n",
       "    <tr>\n",
       "      <th>2021-12-31</th>\n",
       "      <td>0.06</td>\n",
       "      <td>0.05</td>\n",
       "      <td>0.06</td>\n",
       "      <td>NaN</td>\n",
       "      <td>0.19</td>\n",
       "      <td>0.39</td>\n",
       "      <td>0.73</td>\n",
       "      <td>0.97</td>\n",
       "      <td>1.26</td>\n",
       "      <td>1.44</td>\n",
       "      <td>1.52</td>\n",
       "      <td>1.94</td>\n",
       "      <td>1.90</td>\n",
       "    </tr>\n",
       "    <tr>\n",
       "      <th>2021-12-30</th>\n",
       "      <td>0.06</td>\n",
       "      <td>0.06</td>\n",
       "      <td>0.05</td>\n",
       "      <td>NaN</td>\n",
       "      <td>0.19</td>\n",
       "      <td>0.38</td>\n",
       "      <td>0.73</td>\n",
       "      <td>0.98</td>\n",
       "      <td>1.27</td>\n",
       "      <td>1.44</td>\n",
       "      <td>1.52</td>\n",
       "      <td>1.97</td>\n",
       "      <td>1.93</td>\n",
       "    </tr>\n",
       "    <tr>\n",
       "      <th>2021-12-29</th>\n",
       "      <td>0.01</td>\n",
       "      <td>0.02</td>\n",
       "      <td>0.05</td>\n",
       "      <td>NaN</td>\n",
       "      <td>0.19</td>\n",
       "      <td>0.38</td>\n",
       "      <td>0.75</td>\n",
       "      <td>0.99</td>\n",
       "      <td>1.29</td>\n",
       "      <td>1.47</td>\n",
       "      <td>1.55</td>\n",
       "      <td>2.00</td>\n",
       "      <td>1.96</td>\n",
       "    </tr>\n",
       "    <tr>\n",
       "      <th>2021-12-28</th>\n",
       "      <td>0.03</td>\n",
       "      <td>0.04</td>\n",
       "      <td>0.06</td>\n",
       "      <td>NaN</td>\n",
       "      <td>0.20</td>\n",
       "      <td>0.39</td>\n",
       "      <td>0.74</td>\n",
       "      <td>0.99</td>\n",
       "      <td>1.27</td>\n",
       "      <td>1.41</td>\n",
       "      <td>1.49</td>\n",
       "      <td>1.94</td>\n",
       "      <td>1.90</td>\n",
       "    </tr>\n",
       "    <tr>\n",
       "      <th>2021-12-27</th>\n",
       "      <td>0.04</td>\n",
       "      <td>0.05</td>\n",
       "      <td>0.06</td>\n",
       "      <td>NaN</td>\n",
       "      <td>0.21</td>\n",
       "      <td>0.33</td>\n",
       "      <td>0.76</td>\n",
       "      <td>0.98</td>\n",
       "      <td>1.26</td>\n",
       "      <td>1.41</td>\n",
       "      <td>1.48</td>\n",
       "      <td>1.92</td>\n",
       "      <td>1.88</td>\n",
       "    </tr>\n",
       "  </tbody>\n",
       "</table>\n",
       "</div>"
      ],
      "text/plain": [
       "            1 Mo  2 Mo  3 Mo  4 Mo  6 Mo  1 Yr  2 Yr  3 Yr  5 Yr  7 Yr  10 Yr  \\\n",
       "Date                                                                            \n",
       "2021-12-31  0.06  0.05  0.06   NaN  0.19  0.39  0.73  0.97  1.26  1.44   1.52   \n",
       "2021-12-30  0.06  0.06  0.05   NaN  0.19  0.38  0.73  0.98  1.27  1.44   1.52   \n",
       "2021-12-29  0.01  0.02  0.05   NaN  0.19  0.38  0.75  0.99  1.29  1.47   1.55   \n",
       "2021-12-28  0.03  0.04  0.06   NaN  0.20  0.39  0.74  0.99  1.27  1.41   1.49   \n",
       "2021-12-27  0.04  0.05  0.06   NaN  0.21  0.33  0.76  0.98  1.26  1.41   1.48   \n",
       "\n",
       "            20 Yr  30 Yr  \n",
       "Date                      \n",
       "2021-12-31   1.94   1.90  \n",
       "2021-12-30   1.97   1.93  \n",
       "2021-12-29   2.00   1.96  \n",
       "2021-12-28   1.94   1.90  \n",
       "2021-12-27   1.92   1.88  "
      ]
     },
     "execution_count": 6,
     "metadata": {},
     "output_type": "execute_result"
    }
   ],
   "source": [
    "# Setting the stage for next phase of Historical CSV Ingestion & Data Manipulation\n",
    "\n",
    "yield_file = Path('./Resources/yield-rates-1990-2021.csv')\n",
    "\n",
    "yield_csv = pd.read_csv(yield_file, index_col=[0], parse_dates=True, infer_datetime_format=True)\n",
    "\n",
    "yield_csv.head()"
   ]
  },
  {
   "cell_type": "markdown",
   "metadata": {
    "id": "7LLkKwj5L8lD"
   },
   "source": [
    "Prophet (RIP Facebook or 'FB') is a great and simple tool to set up our modelizations needed to provide our users the ability to see the fruits of their work. Any time or money invested with us, has to be transparent in reason for ask, alongside visualizations and education provided simultaneously while interacting with our Robo Advisor.\n",
    "\n",
    "For now, let's make sure our machine is nice and oiled up:"
   ]
  },
  {
   "cell_type": "code",
   "execution_count": 7,
   "metadata": {
    "colab": {
     "base_uri": "https://localhost:8080/",
     "height": 1000
    },
    "id": "_w4BJsoOMd6H",
    "outputId": "903a98ae-7cea-40ba-9cf0-4e4d22e8fcb0"
   },
   "outputs": [
    {
     "data": {
      "text/html": [
       "<div>\n",
       "<style scoped>\n",
       "    .dataframe tbody tr th:only-of-type {\n",
       "        vertical-align: middle;\n",
       "    }\n",
       "\n",
       "    .dataframe tbody tr th {\n",
       "        vertical-align: top;\n",
       "    }\n",
       "\n",
       "    .dataframe thead th {\n",
       "        text-align: right;\n",
       "    }\n",
       "</style>\n",
       "<table border=\"1\" class=\"dataframe\">\n",
       "  <thead>\n",
       "    <tr style=\"text-align: right;\">\n",
       "      <th></th>\n",
       "      <th>ds</th>\n",
       "      <th>y</th>\n",
       "    </tr>\n",
       "  </thead>\n",
       "  <tbody>\n",
       "    <tr>\n",
       "      <th>0</th>\n",
       "      <td>2021-12-31</td>\n",
       "      <td>0.06</td>\n",
       "    </tr>\n",
       "    <tr>\n",
       "      <th>1</th>\n",
       "      <td>2021-12-30</td>\n",
       "      <td>0.05</td>\n",
       "    </tr>\n",
       "    <tr>\n",
       "      <th>2</th>\n",
       "      <td>2021-12-29</td>\n",
       "      <td>0.05</td>\n",
       "    </tr>\n",
       "    <tr>\n",
       "      <th>3</th>\n",
       "      <td>2021-12-28</td>\n",
       "      <td>0.06</td>\n",
       "    </tr>\n",
       "    <tr>\n",
       "      <th>4</th>\n",
       "      <td>2021-12-27</td>\n",
       "      <td>0.06</td>\n",
       "    </tr>\n",
       "    <tr>\n",
       "      <th>...</th>\n",
       "      <td>...</td>\n",
       "      <td>...</td>\n",
       "    </tr>\n",
       "    <tr>\n",
       "      <th>8003</th>\n",
       "      <td>1990-01-08</td>\n",
       "      <td>7.79</td>\n",
       "    </tr>\n",
       "    <tr>\n",
       "      <th>8004</th>\n",
       "      <td>1990-01-05</td>\n",
       "      <td>7.79</td>\n",
       "    </tr>\n",
       "    <tr>\n",
       "      <th>8005</th>\n",
       "      <td>1990-01-04</td>\n",
       "      <td>7.84</td>\n",
       "    </tr>\n",
       "    <tr>\n",
       "      <th>8006</th>\n",
       "      <td>1990-01-03</td>\n",
       "      <td>7.89</td>\n",
       "    </tr>\n",
       "    <tr>\n",
       "      <th>8007</th>\n",
       "      <td>1990-01-02</td>\n",
       "      <td>7.83</td>\n",
       "    </tr>\n",
       "  </tbody>\n",
       "</table>\n",
       "<p>8008 rows × 2 columns</p>\n",
       "</div>"
      ],
      "text/plain": [
       "             ds     y\n",
       "0    2021-12-31  0.06\n",
       "1    2021-12-30  0.05\n",
       "2    2021-12-29  0.05\n",
       "3    2021-12-28  0.06\n",
       "4    2021-12-27  0.06\n",
       "...         ...   ...\n",
       "8003 1990-01-08  7.79\n",
       "8004 1990-01-05  7.79\n",
       "8005 1990-01-04  7.84\n",
       "8006 1990-01-03  7.89\n",
       "8007 1990-01-02  7.83\n",
       "\n",
       "[8008 rows x 2 columns]"
      ]
     },
     "metadata": {},
     "output_type": "display_data"
    },
    {
     "name": "stderr",
     "output_type": "stream",
     "text": [
      "19:07:08 - cmdstanpy - INFO - Chain [1] start processing\n",
      "19:07:11 - cmdstanpy - INFO - Chain [1] done processing\n"
     ]
    },
    {
     "data": {
      "image/png": "[encoded data removed]",
      "text/plain": [
       "<Figure size 1000x600 with 1 Axes>"
      ]
     },
     "metadata": {},
     "output_type": "display_data"
    }
   ],
   "source": [
    "# Future Predictability Model\n",
    "\n",
    "from prophet import Prophet # RIP Facebook!\n",
    "\n",
    "# Prepare model and clean up data\n",
    "\n",
    "new_df = yield_csv['3 Mo']\n",
    "\n",
    "new_df = new_df.reset_index()\n",
    "\n",
    "new_df = new_df.rename(columns={'Date': 'ds', '3 Mo': 'y'})\n",
    "\n",
    "display(new_df)\n",
    "\n",
    "# Model Creation\n",
    "\n",
    "m = Prophet()\n",
    "m.fit(new_df) # The New Df needs to be here. Working to convert Dates and Yields into ds and y\n",
    "\n",
    "# Future 'indicators' Creation\n",
    "\n",
    "future = m.make_future_dataframe(periods=4)\n",
    "future.tail()\n",
    "\n",
    "# Forecast model integrating newly\n",
    "\n",
    "forecast = m.predict(future)\n",
    "forecast[['ds', 'yhat', 'yhat_lower', 'yhat_upper']].tail()\n",
    "\n",
    "# Lets make this thing pretty! Visualization & Plots!\n",
    "\n",
    "from prophet.plot import plot_plotly, plot_components_plotly\n",
    "\n",
    "visual = m.plot(forecast)"
   ]
  },
  {
   "cell_type": "markdown",
   "metadata": {
    "id": "adxosMdAMmfZ"
   },
   "source": [
    "Now that we have that sorted, let's ingest actual information to support our analysis on the glaring issue yet tulmutous opportunity to address and narrow the everpresent Racial Wealth Gap.\n",
    "\n",
    "Our work, approach and analysis remains always fair, unbiased and unprejudiced.\n",
    "\n",
    "Albeit fortunate, we have an abundance of historical data that supports that rhetoric while we attempt to find a correlation between actual Market Conditions & Performance, unilaterally with the Racial Wealth Gap."
   ]
  },
  {
   "cell_type": "code",
   "execution_count": 8,
   "metadata": {
    "colab": {
     "base_uri": "https://localhost:8080/",
     "height": 348
    },
    "id": "yKDH91lGNQ2g",
    "outputId": "15de8984-e14a-4ac1-f612-33fe19edf898"
   },
   "outputs": [
    {
     "data": {
      "text/html": [
       "<div>\n",
       "<style scoped>\n",
       "    .dataframe tbody tr th:only-of-type {\n",
       "        vertical-align: middle;\n",
       "    }\n",
       "\n",
       "    .dataframe tbody tr th {\n",
       "        vertical-align: top;\n",
       "    }\n",
       "\n",
       "    .dataframe thead th {\n",
       "        text-align: right;\n",
       "    }\n",
       "</style>\n",
       "<table border=\"1\" class=\"dataframe\">\n",
       "  <thead>\n",
       "    <tr style=\"text-align: right;\">\n",
       "      <th></th>\n",
       "      <th>ISO3</th>\n",
       "      <th>Country</th>\n",
       "      <th>Continent</th>\n",
       "      <th>Hemisphere</th>\n",
       "      <th>Human Development Groups</th>\n",
       "      <th>UNDP Developing Regions</th>\n",
       "      <th>HDI Rank (2021)</th>\n",
       "      <th>Inequality in income (2010)</th>\n",
       "      <th>Inequality in income (2011)</th>\n",
       "      <th>Inequality in income (2012)</th>\n",
       "      <th>Inequality in income (2013)</th>\n",
       "      <th>Inequality in income (2014)</th>\n",
       "      <th>Inequality in income (2015)</th>\n",
       "      <th>Inequality in income (2016)</th>\n",
       "      <th>Inequality in income (2017)</th>\n",
       "      <th>Inequality in income (2018)</th>\n",
       "      <th>Inequality in income (2019)</th>\n",
       "      <th>Inequality in income (2020)</th>\n",
       "      <th>Inequality in income (2021)</th>\n",
       "    </tr>\n",
       "  </thead>\n",
       "  <tbody>\n",
       "    <tr>\n",
       "      <th>0</th>\n",
       "      <td>AFG</td>\n",
       "      <td>Afghanistan</td>\n",
       "      <td>Asia</td>\n",
       "      <td>Northern Hemisphere</td>\n",
       "      <td>Low</td>\n",
       "      <td>SA</td>\n",
       "      <td>180.0</td>\n",
       "      <td>10.76700</td>\n",
       "      <td>10.76700</td>\n",
       "      <td>10.767000</td>\n",
       "      <td>NaN</td>\n",
       "      <td>NaN</td>\n",
       "      <td>NaN</td>\n",
       "      <td>NaN</td>\n",
       "      <td>NaN</td>\n",
       "      <td>NaN</td>\n",
       "      <td>NaN</td>\n",
       "      <td>NaN</td>\n",
       "      <td>NaN</td>\n",
       "    </tr>\n",
       "    <tr>\n",
       "      <th>1</th>\n",
       "      <td>AGO</td>\n",
       "      <td>Angola</td>\n",
       "      <td>Africa</td>\n",
       "      <td>Southern Hemisphere</td>\n",
       "      <td>Medium</td>\n",
       "      <td>SSA</td>\n",
       "      <td>148.0</td>\n",
       "      <td>24.45400</td>\n",
       "      <td>28.94534</td>\n",
       "      <td>28.945340</td>\n",
       "      <td>28.945340</td>\n",
       "      <td>28.945340</td>\n",
       "      <td>28.945340</td>\n",
       "      <td>28.877330</td>\n",
       "      <td>28.877330</td>\n",
       "      <td>28.87733</td>\n",
       "      <td>28.87733</td>\n",
       "      <td>28.87733</td>\n",
       "      <td>28.87733</td>\n",
       "    </tr>\n",
       "    <tr>\n",
       "      <th>2</th>\n",
       "      <td>ALB</td>\n",
       "      <td>Albania</td>\n",
       "      <td>Europe</td>\n",
       "      <td>Northern Hemisphere</td>\n",
       "      <td>High</td>\n",
       "      <td>ECA</td>\n",
       "      <td>67.0</td>\n",
       "      <td>18.33096</td>\n",
       "      <td>18.33096</td>\n",
       "      <td>12.237393</td>\n",
       "      <td>12.237393</td>\n",
       "      <td>12.237393</td>\n",
       "      <td>12.237393</td>\n",
       "      <td>12.237393</td>\n",
       "      <td>12.237393</td>\n",
       "      <td>13.17898</td>\n",
       "      <td>13.17898</td>\n",
       "      <td>13.17898</td>\n",
       "      <td>13.17898</td>\n",
       "    </tr>\n",
       "    <tr>\n",
       "      <th>3</th>\n",
       "      <td>AND</td>\n",
       "      <td>Andorra</td>\n",
       "      <td>Europe</td>\n",
       "      <td>Northern Hemisphere</td>\n",
       "      <td>Very High</td>\n",
       "      <td>NaN</td>\n",
       "      <td>40.0</td>\n",
       "      <td>NaN</td>\n",
       "      <td>NaN</td>\n",
       "      <td>NaN</td>\n",
       "      <td>NaN</td>\n",
       "      <td>NaN</td>\n",
       "      <td>NaN</td>\n",
       "      <td>NaN</td>\n",
       "      <td>NaN</td>\n",
       "      <td>NaN</td>\n",
       "      <td>NaN</td>\n",
       "      <td>NaN</td>\n",
       "      <td>NaN</td>\n",
       "    </tr>\n",
       "    <tr>\n",
       "      <th>4</th>\n",
       "      <td>ARE</td>\n",
       "      <td>United Arab Emirates</td>\n",
       "      <td>Asia</td>\n",
       "      <td>Northern Hemisphere</td>\n",
       "      <td>Very High</td>\n",
       "      <td>AS</td>\n",
       "      <td>26.0</td>\n",
       "      <td>NaN</td>\n",
       "      <td>NaN</td>\n",
       "      <td>NaN</td>\n",
       "      <td>NaN</td>\n",
       "      <td>NaN</td>\n",
       "      <td>NaN</td>\n",
       "      <td>NaN</td>\n",
       "      <td>NaN</td>\n",
       "      <td>NaN</td>\n",
       "      <td>NaN</td>\n",
       "      <td>NaN</td>\n",
       "      <td>NaN</td>\n",
       "    </tr>\n",
       "  </tbody>\n",
       "</table>\n",
       "</div>"
      ],
      "text/plain": [
       "  ISO3               Country Continent           Hemisphere  \\\n",
       "0  AFG           Afghanistan      Asia  Northern Hemisphere   \n",
       "1  AGO                Angola    Africa  Southern Hemisphere   \n",
       "2  ALB               Albania    Europe  Northern Hemisphere   \n",
       "3  AND               Andorra    Europe  Northern Hemisphere   \n",
       "4  ARE  United Arab Emirates      Asia  Northern Hemisphere   \n",
       "\n",
       "  Human Development Groups UNDP Developing Regions  HDI Rank (2021)  \\\n",
       "0                      Low                      SA            180.0   \n",
       "1                   Medium                     SSA            148.0   \n",
       "2                     High                     ECA             67.0   \n",
       "3                Very High                     NaN             40.0   \n",
       "4                Very High                      AS             26.0   \n",
       "\n",
       "   Inequality in income (2010)  Inequality in income (2011)  \\\n",
       "0                     10.76700                     10.76700   \n",
       "1                     24.45400                     28.94534   \n",
       "2                     18.33096                     18.33096   \n",
       "3                          NaN                          NaN   \n",
       "4                          NaN                          NaN   \n",
       "\n",
       "   Inequality in income (2012)  Inequality in income (2013)  \\\n",
       "0                    10.767000                          NaN   \n",
       "1                    28.945340                    28.945340   \n",
       "2                    12.237393                    12.237393   \n",
       "3                          NaN                          NaN   \n",
       "4                          NaN                          NaN   \n",
       "\n",
       "   Inequality in income (2014)  Inequality in income (2015)  \\\n",
       "0                          NaN                          NaN   \n",
       "1                    28.945340                    28.945340   \n",
       "2                    12.237393                    12.237393   \n",
       "3                          NaN                          NaN   \n",
       "4                          NaN                          NaN   \n",
       "\n",
       "   Inequality in income (2016)  Inequality in income (2017)  \\\n",
       "0                          NaN                          NaN   \n",
       "1                    28.877330                    28.877330   \n",
       "2                    12.237393                    12.237393   \n",
       "3                          NaN                          NaN   \n",
       "4                          NaN                          NaN   \n",
       "\n",
       "   Inequality in income (2018)  Inequality in income (2019)  \\\n",
       "0                          NaN                          NaN   \n",
       "1                     28.87733                     28.87733   \n",
       "2                     13.17898                     13.17898   \n",
       "3                          NaN                          NaN   \n",
       "4                          NaN                          NaN   \n",
       "\n",
       "   Inequality in income (2020)  Inequality in income (2021)  \n",
       "0                          NaN                          NaN  \n",
       "1                     28.87733                     28.87733  \n",
       "2                     13.17898                     13.17898  \n",
       "3                          NaN                          NaN  \n",
       "4                          NaN                          NaN  "
      ]
     },
     "metadata": {},
     "output_type": "display_data"
    }
   ],
   "source": [
    "# Let's focus on the parameters and dataset needed to support our analysis into the Racial Wealth Gap\n",
    "\n",
    "inequality_file = Path('./Resources/Income_Inequality.csv')\n",
    "\n",
    "inequality_csv = pd.read_csv(inequality_file)\n",
    "\n",
    "display(inequality_csv.head())"
   ]
  },
  {
   "cell_type": "markdown",
   "metadata": {
    "id": "fQXN7Yp0NU5l"
   },
   "source": [
    "Let's tag in a friend shall we!\n",
    "\n",
    "But before we proceed, special shoutouts to our team's resident Exterior Designer & Project Visionary - Patricia Fuglo alongside our extroadinary Master of Risk vs Return, the legendary Jordi Salas!"
   ]
  },
  {
   "cell_type": "code",
   "execution_count": 9,
   "metadata": {
    "colab": {
     "base_uri": "https://localhost:8080/"
    },
    "id": "ogB-MGJv17BA",
    "outputId": "9fdae2f2-488a-4e95-abc4-598dfc040b83"
   },
   "outputs": [
    {
     "name": "stdout",
     "output_type": "stream",
     "text": [
      "Team 2 Logistic Regressions Rule!!!!\n"
     ]
    }
   ],
   "source": [
    "print(f'Team 2 Logistic Regressions Rule!!!!')"
   ]
  },
  {
   "cell_type": "markdown",
   "metadata": {
    "id": "I-spHh7i1_KC"
   },
   "source": [
    "Moving along, we recognize from personal shared experiences, that often times people who are marginalized and vulnerable often fall prey to \"too good, to be true schemes\".\n",
    "\n",
    "While everyone wants to be rich, regardless of inheritance or present/past generational prosperity, our mission to not only advise clients and users about making the right choices suited towards their financial goals and appropriate risk tolerance, but also EDUCATE while INNOVATE-ing, the entire Financial Planning process.\n",
    "\n",
    "Nothing assists in delivering a better experience and impact than visual aids, accompanied by friendly hard-coded software Virtual Assistants to explain it better than a Google search!"
   ]
  },
  {
   "cell_type": "code",
   "execution_count": 10,
   "metadata": {
    "colab": {
     "base_uri": "https://localhost:8080/",
     "height": 524
    },
    "id": "AzS5q3fQNUXx",
    "outputId": "04aec55c-bf26-4827-edc8-d9b90b8139ef"
   },
   "outputs": [
    {
     "ename": "NameError",
     "evalue": "name 'wkly_pct_change' is not defined",
     "output_type": "error",
     "traceback": [
      "\u001b[0;31m---------------------------------------------------------------------------\u001b[0m",
      "\u001b[0;31mNameError\u001b[0m                                 Traceback (most recent call last)",
      "Cell \u001b[0;32mIn[10], line 7\u001b[0m\n\u001b[1;32m      3\u001b[0m \u001b[38;5;66;03m# Change Weights to accomodate preferred risk tolerance style of Investment Profile\u001b[39;00m\n\u001b[1;32m      4\u001b[0m \n\u001b[1;32m      5\u001b[0m \u001b[38;5;66;03m# Portfolio with more moderate-aggressive style (Mix of Stocks/Crypto - Best for Accumulation Stage\u001b[39;00m\n\u001b[1;32m      6\u001b[0m risky_weight \u001b[38;5;241m=\u001b[39m [\u001b[38;5;241m.1\u001b[39m,\u001b[38;5;241m.2\u001b[39m,\u001b[38;5;241m0\u001b[39m,\u001b[38;5;241m0\u001b[39m,\u001b[38;5;241m.7\u001b[39m]\n\u001b[0;32m----> 7\u001b[0m risky_port_returns \u001b[38;5;241m=\u001b[39m \u001b[43mwkly_pct_change\u001b[49m\u001b[38;5;241m.\u001b[39mdot(risky_weight)\n\u001b[1;32m      9\u001b[0m risky_returns \u001b[38;5;241m=\u001b[39m (\u001b[38;5;241m1\u001b[39m \u001b[38;5;241m+\u001b[39m risky_port_returns)\u001b[38;5;241m.\u001b[39mcumprod()\n\u001b[1;32m     11\u001b[0m \u001b[38;5;66;03m# Portfolio with high speculative, volatile tolerance in search of higher returns aka 'Get Rich Quick'.\u001b[39;00m\n",
      "\u001b[0;31mNameError\u001b[0m: name 'wkly_pct_change' is not defined"
     ]
    }
   ],
   "source": [
    "initial_investment = 1000 #Initial Investment is set at $1000 but can be adjust to replicate any example\n",
    "\n",
    "# Change Weights to accomodate preferred risk tolerance style of Investment Profile\n",
    "\n",
    "# Portfolio with more moderate-aggressive style (Mix of Stocks/Crypto - Best for Accumulation Stage\n",
    "risky_weight = [.1,.2,0,0,.7]\n",
    "risky_port_returns = wkly_pct_change.dot(risky_weight)\n",
    "\n",
    "risky_returns = (1 + risky_port_returns).cumprod()\n",
    "\n",
    "# Portfolio with high speculative, volatile tolerance in search of higher returns aka 'Get Rich Quick'.\n",
    "riskiest_returns = [0,.2,0,.1,.7]\n",
    "riskiest_port_returns = wkly_pct_change.dot(riskiest_returns)\n",
    "\n",
    "riskiest_returns = (1 + riskiest_port_returns).cumprod()\n",
    "\n",
    "high_risk_portfolio = initial_investment * risky_returns\n",
    "high_risk_portfolio.plot()\n",
    "\n",
    "too_risky_portfolio = initial_investment * riskiest_returns\n",
    "too_risky_portfolio.plot(title='Are you sure you can tolerate the \"get rich\" risk?')\n"
   ]
  },
  {
   "cell_type": "code",
   "execution_count": null,
   "metadata": {
    "id": "1DpBZDUiQ_2I"
   },
   "outputs": [],
   "source": [
    "## Mission Name - Solitaire\n",
    "\n",
    "import requests\n",
    "import pandas as pd\n",
    "import json\n",
    "import matplotlib.pyplot as plt\n",
    "\n",
    "wkly_close_etf3=pd.read_csv('./Resources/WKLY_ETF_close_prices.csv',index_col = \"date\", infer_datetime_format = True, parse_dates = True).sort_index(ascending=True)\n",
    "wkly_close_etf3\n",
    "\n",
    "# Clean Up Data\n",
    "wkly_close_etf3.isnull().sum()\n",
    "\n",
    "# Isolate Volatility\n",
    "wkly_pct_change=wkly_close_etf3.pct_change()\n",
    "wkly_pct_change\n",
    "\n",
    "wkly_pct_change=wkly_pct_change.dropna() # Removing all nulls and blahs\n",
    "wkly_pct_change\n",
    "\n",
    "cumulative_returns=(1+wkly_pct_change).cumprod() # Almost done and making pretty!"
   ]
  },
  {
   "cell_type": "markdown",
   "metadata": {
    "id": "fqDPNJZO270U"
   },
   "source": [
    "One of the biggest cardinal rules in Finance (especially after all those ponzis and news headline tragedies!), is to always keep the client's best interest at heart (this wasn't always a rule funny enough), yet, how can we have their best interest at heart if we give them all the same medicine?\n",
    "\n",
    "Everyone, is unique and special; REGARDLESS of their ethnic, racial, religious, economic, sexual, or whatever socially constructed background, whom DESERVE their own holistically curated financial solution.\n",
    "\n",
    "Lucky for them, we have developed CORE SOLUTIONS, that should address the majority of our targeted audience."
   ]
  },
  {
   "cell_type": "markdown",
   "metadata": {
    "id": "g-GmaU-G3rc7"
   },
   "source": [
    "Remeber what I said about visual aids? 🙂"
   ]
  },
  {
   "cell_type": "code",
   "execution_count": null,
   "metadata": {
    "colab": {
     "base_uri": "https://localhost:8080/",
     "height": 230
    },
    "id": "0uKV1SpUQnTO",
    "outputId": "13934feb-a817-4dc6-94a3-51004044a7a1"
   },
   "outputs": [],
   "source": [
    "cumulative_returns=(1+wkly_pct_change).cumprod()\n",
    "\n",
    "risk_plot=cumulative_returns\n",
    "risk_plot.boxplot(figsize=(20,5))"
   ]
  },
  {
   "cell_type": "code",
   "execution_count": null,
   "metadata": {
    "colab": {
     "base_uri": "https://localhost:8080/",
     "height": 415
    },
    "id": "y6KH7PiopcEi",
    "outputId": "2c466599-d408-44cf-dd52-e9aeede9c4e1",
    "tags": []
   },
   "outputs": [],
   "source": [
    "# Portfolio modeled after Least Risk Profile with more Passive/Convervative ETF $SPY, $QQQ, $DIA\n",
    "safe_weights = [.33,.33,.33,0,0]\n",
    "safe_port_returns = wkly_pct_change.dot(safe_weights)\n",
    "\n",
    "safe_returns = (1 + safe_port_returns).cumprod()\n",
    "\n",
    "safe_portfolio = initial_investment * safe_returns\n",
    "safe_portfolio.plot()\n",
    "\n",
    "# Moderate / Equality Weighted Portfolio\n",
    "equal_weights = [.2,.2,.2,.2,.2]\n",
    "moderate_port_returns= wkly_pct_change.dot(equal_weights)\n",
    "\n",
    "moderate_returns = (1 + moderate_port_returns).cumprod()\n",
    "\n",
    "equal_distrubition_portfolio = initial_investment * moderate_returns\n",
    "equal_distrubition_portfolio.plot()\n",
    "\n",
    "# DIA Least Volatile\n",
    "least_volatile = [0,0,1,0,0]\n",
    "least_port_returns= wkly_pct_change.dot(least_volatile)\n",
    "\n",
    "least_returns = (1 + least_port_returns).cumprod()\n",
    "\n",
    "least_port = initial_investment * least_returns\n",
    "least_port.plot()\n",
    "\n",
    "ax = high_risk_portfolio.plot(figsize=(20,10))\n",
    "low_risk_portfolio.plot(ax=ax)\n",
    "equal_distrubition_portfolio.plot(ax=ax)\n",
    "safe_portfolio.plot(ax=ax)\n",
    "least_port.plot(ax=ax)\n",
    "\n",
    "ax.legend(['Moderate Agressive / Retire Early',\n",
    "           'High Speculative / Get Rich',\n",
    "           'Moderate Blend / Save Money',\n",
    "           'Equal Weighted / Partipation Award',\n",
    "           'Dow Jones / Least Volatile'])"
   ]
  }
 ],
 "metadata": {
  "colab": {
   "authorship_tag": "ABX9TyO9Vq/4yGht8ficuvghVX95",
   "include_colab_link": true,
   "mount_file_id": "1fpdUvWNVpZ7qT8RJGwb580vzZIudv8GF",
   "provenance": []
  },
  "kernelspec": {
   "display_name": "Python 3 (ipykernel)",
   "language": "python",
   "name": "python3"
  },
  "language_info": {
   "codemirror_mode": {
    "name": "ipython",
    "version": 3
   },
   "file_extension": ".py",
   "mimetype": "text/x-python",
   "name": "python",
   "nbconvert_exporter": "python",
   "pygments_lexer": "ipython3",
   "version": "3.10.8"
  }
 },
 "nbformat": 4,
 "nbformat_minor": 4
}
